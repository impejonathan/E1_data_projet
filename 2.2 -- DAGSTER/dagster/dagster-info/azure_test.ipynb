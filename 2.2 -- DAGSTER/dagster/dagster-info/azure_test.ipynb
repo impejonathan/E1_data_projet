{
 "cells": [
  {
   "cell_type": "code",
   "execution_count": 3,
   "metadata": {},
   "outputs": [],
   "source": [
    "import os\n",
    "from dotenv import load_dotenv\n",
    "import pyodbc\n",
    "\n",
    "# Charger les variables d'environnement\n",
    "load_dotenv()\n",
    "\n",
    "server = os.getenv('DB_SERVER')\n",
    "database = os.getenv('DB_DATABASE')\n",
    "username = os.getenv('DB_USERNAME')\n",
    "password = os.getenv('DB_PASSWORD')\n",
    "\n",
    "driver= '{ODBC Driver 17 for SQL Server}'\n",
    "\n",
    "cnxn = pyodbc.connect('DRIVER='+driver+';SERVER='+server+';PORT=1433;DATABASE='+database+';UID='+username+';PWD='+ password)\n",
    "cursor = cnxn.cursor()\n"
   ]
  },
  {
   "cell_type": "code",
   "execution_count": 2,
   "metadata": {},
   "outputs": [
    {
     "name": "stdout",
     "output_type": "stream",
     "text": [
      "0 lignes ont été insérées dans la table 'ootbox_copie'.\n"
     ]
    }
   ],
   "source": [
    "# Activer IDENTITY_INSERT pour la table ootbox_copie\n",
    "cursor.execute(\"SET IDENTITY_INSERT ootbox_copie ON\")\n",
    "\n",
    "# Sélectionner toutes les lignes de la table ootbox\n",
    "cursor.execute(\"SELECT * FROM ootbox\")\n",
    "rows = cursor.fetchall()\n",
    "\n",
    "# Compteur pour le nombre de lignes insérées\n",
    "count = 0\n",
    "\n",
    "# Insérer les données de la table ootbox dans la table ootbox_copie\n",
    "for row in rows:\n",
    "    id, nom, prenom, age = row\n",
    "\n",
    "    # Vérifier si les données existent déjà dans la table ootbox_copie\n",
    "    cursor.execute(\"\"\"\n",
    "    SELECT * FROM ootbox_copie WHERE id = ? AND nom = ? AND prenom = ? AND age = ?\n",
    "    \"\"\", (id, nom, prenom, age))\n",
    "    \n",
    "    result = cursor.fetchone()\n",
    "\n",
    "    # Si les données n'existent pas dans ootbox_copie, les insérer\n",
    "    if result is None:\n",
    "        cursor.execute(\"\"\"\n",
    "        INSERT INTO ootbox_copie (id, nom, prenom, age) VALUES (?, ?, ?, ?)\n",
    "        \"\"\", (id, nom, prenom, age))\n",
    "        count += 1\n",
    "\n",
    "# Désactiver IDENTITY_INSERT pour la table ootbox_copie\n",
    "cursor.execute(\"SET IDENTITY_INSERT ootbox_copie OFF\")\n",
    "\n",
    "cnxn.commit()\n",
    "\n",
    "# Imprimer le nombre de lignes insérées\n",
    "print(f\"{count} lignes ont été insérées dans la table 'ootbox_copie'.\")\n"
   ]
  }
 ],
 "metadata": {
  "kernelspec": {
   "display_name": "Dagster",
   "language": "python",
   "name": "python3"
  },
  "language_info": {
   "codemirror_mode": {
    "name": "ipython",
    "version": 3
   },
   "file_extension": ".py",
   "mimetype": "text/x-python",
   "name": "python",
   "nbconvert_exporter": "python",
   "pygments_lexer": "ipython3",
   "version": "3.10.8"
  }
 },
 "nbformat": 4,
 "nbformat_minor": 2
}
