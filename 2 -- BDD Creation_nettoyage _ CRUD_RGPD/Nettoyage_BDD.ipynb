{
 "cells": [
  {
   "cell_type": "markdown",
   "metadata": {},
   "source": [
    "### Connexion"
   ]
  },
  {
   "cell_type": "code",
   "execution_count": 2,
   "metadata": {},
   "outputs": [],
   "source": [
    "import os\n",
    "from dotenv import load_dotenv\n",
    "import pyodbc\n",
    "\n",
    "# Charger les variables d'environnement\n",
    "load_dotenv()\n",
    "\n",
    "server = os.getenv('DB_SERVER')\n",
    "database = os.getenv('DB_DATABASE')\n",
    "username = os.getenv('DB_USERNAME')\n",
    "password = os.getenv('DB_PASSWORD')\n",
    "\n",
    "driver= '{ODBC Driver 17 for SQL Server}'\n",
    "\n",
    "cnxn = pyodbc.connect('DRIVER='+driver+';SERVER='+server+';PORT=1433;DATABASE='+database+';UID='+username+';PWD='+ password)\n",
    "cursor = cnxn.cursor()"
   ]
  },
  {
   "cell_type": "markdown",
   "metadata": {},
   "source": [
    "### nettoyage partie 1 les URL de redirection ( refaire le code pour qu'il ne netoie seulement seux qui on la date la plus elever )"
   ]
  },
  {
   "cell_type": "code",
   "execution_count": 3,
   "metadata": {},
   "outputs": [
    {
     "name": "stdout",
     "output_type": "stream",
     "text": [
      "Une erreur s'est produite lors de la tentative d'accès à l'URL https://www.carter-cash.com/pneus/sur-commande/225-50r18-99h-continental-hiver-1013018104 : ('Connection aborted.', RemoteDisconnected('Remote end closed connection without response'))\n"
     ]
    }
   ],
   "source": [
    "# import requests\n",
    "# import pyodbc\n",
    "\n",
    "# # Connexion à la base de données\n",
    "# cnxn = pyodbc.connect('DRIVER='+driver+';SERVER='+server+';PORT=1433;DATABASE='+database+';UID='+username+';PWD='+ password)\n",
    "# cursor = cnxn.cursor()\n",
    "\n",
    "# # Sélection des URL_Produit de la table Produit\n",
    "# cursor.execute(\"SELECT ID_Produit, URL_Produit FROM Produit\")\n",
    "# rows = cursor.fetchall()\n",
    "\n",
    "# for row in rows:\n",
    "#     id_produit = row[0]\n",
    "#     url_produit = row[1]\n",
    "    \n",
    "#     try:\n",
    "#         # Suivre les redirections pour obtenir l'URL finale\n",
    "#         response = requests.get(url_produit)\n",
    "#         url_final = response.url\n",
    "        \n",
    "#         # Mettre à jour l'URL_Produit dans la table Produit si une redirection a eu lieu\n",
    "#         if url_produit != url_final:\n",
    "#             cursor.execute(\"UPDATE Produit SET URL_Produit = ? WHERE ID_Produit = ?\", url_final, id_produit)\n",
    "#     except requests.exceptions.RequestException as e:\n",
    "#         print(f\"Une erreur s'est produite lors de la tentative d'accès à l'URL {url_produit} : {e}\")\n",
    "\n",
    "# cnxn.commit()\n",
    "# cnxn.close()\n"
   ]
  },
  {
   "cell_type": "code",
   "execution_count": 3,
   "metadata": {},
   "outputs": [],
   "source": [
    "import pyodbc\n",
    "import requests\n",
    "\n",
    "# Connexion à la base de données\n",
    "cnxn = pyodbc.connect('DRIVER='+driver+';SERVER='+server+';PORT=1433;DATABASE='+database+';UID='+username+';PWD='+ password)\n",
    "cursor = cnxn.cursor()\n",
    "\n",
    "# Sélection de la date la plus élevée dans la colonne Date_scrap de la table Produit\n",
    "cursor.execute(\"SELECT MAX(Date_scrap) FROM Produit\")\n",
    "max_date = cursor.fetchone()[0]\n",
    "\n",
    "# Sélection des tables qui ont la date la plus élevée dans la colonne Date_scrap de la table Produit\n",
    "cursor.execute(\"SELECT ID_Produit, URL_Produit FROM Produit WHERE Date_scrap = ?\", max_date)\n",
    "rows = cursor.fetchall()\n",
    "\n",
    "for row in rows:\n",
    "    id_produit = row[0]\n",
    "    url_produit = row[1]\n",
    "    \n",
    "    try:\n",
    "        # Suivre les redirections pour obtenir l'URL finale\n",
    "        response = requests.get(url_produit)\n",
    "        url_final = response.url\n",
    "        \n",
    "        # Mettre à jour l'URL_Produit dans la table Produit si une redirection a eu lieu\n",
    "        if url_produit != url_final:\n",
    "            cursor.execute(\"UPDATE Produit SET URL_Produit = ? WHERE ID_Produit = ?\", url_final, id_produit)\n",
    "    except requests.exceptions.RequestException as e:\n",
    "        print(f\"Une erreur s'est produite lors de la tentative d'accès à l'URL {url_produit} : {e}\")\n",
    "\n",
    "cnxn.commit()\n",
    "cnxn.close()\n"
   ]
  },
  {
   "cell_type": "markdown",
   "metadata": {},
   "source": [
    "### nettoyage partie 2 les doublons "
   ]
  },
  {
   "cell_type": "code",
   "execution_count": 4,
   "metadata": {},
   "outputs": [],
   "source": [
    "import pyodbc\n",
    "\n",
    "# Connexion à la base de données\n",
    "cnxn = pyodbc.connect('DRIVER='+driver+';SERVER='+server+';PORT=1433;DATABASE='+database+';UID='+username+';PWD='+ password)\n",
    "cursor = cnxn.cursor()\n",
    "\n",
    "# Suppression des doublons dans la table Produit\n",
    "cursor.execute(\"\"\"\n",
    "WITH CTE AS(\n",
    "   SELECT ID_Produit, URL_Produit, Date_scrap,\n",
    "       RN = ROW_NUMBER()OVER(PARTITION BY URL_Produit, Prix, Date_scrap ORDER BY ID_Produit)\n",
    "   FROM Produit\n",
    ")\n",
    "SELECT ID_Produit FROM CTE WHERE RN > 1\n",
    "\"\"\")\n",
    "duplicates = cursor.fetchall()\n",
    "\n",
    "for id_produit in duplicates:\n",
    "    # Suppression des doublons dans les autres tables\n",
    "    for table_name in ['Caracteristiques', 'Dimensions']:\n",
    "        cursor.execute(f\"DELETE FROM {table_name} WHERE ID_Produit = ?\", id_produit)\n",
    "\n",
    "    # Suppression des doublons dans la table Produit\n",
    "    cursor.execute(\"DELETE FROM Produit WHERE ID_Produit = ?\", id_produit)\n",
    "\n",
    "cnxn.commit()\n",
    "cnxn.close()\n"
   ]
  },
  {
   "cell_type": "markdown",
   "metadata": {},
   "source": [
    "### nettoyage partie 3 les prix par rapport à l'url"
   ]
  },
  {
   "cell_type": "code",
   "execution_count": 16,
   "metadata": {},
   "outputs": [],
   "source": [
    "# from lxml import html\n",
    "# import requests\n",
    "# import pyodbc\n",
    "\n",
    "# # Connexion à la base de données\n",
    "# cnxn = pyodbc.connect('DRIVER='+driver+';SERVER='+server+';PORT=1433;DATABASE='+database+';UID='+username+';PWD='+ password)\n",
    "# cursor = cnxn.cursor()\n",
    "\n",
    "# # Sélection des URL_Produit, Prix et Date_scrap de la table Produit\n",
    "# cursor.execute(\"SELECT ID_Produit, URL_Produit, Prix, Date_scrap FROM Produit\")\n",
    "# rows = cursor.fetchall()\n",
    "\n",
    "# # Trouver la date la plus récente\n",
    "# date_max = max(row[3] for row in rows)\n",
    "\n",
    "# for row in rows:\n",
    "#     id_produit = row[0]\n",
    "#     url_produit = row[1]\n",
    "#     prix_produit = row[2]\n",
    "#     date_scrap = row[3]\n",
    "    \n",
    "#     # Vérifier si la date de scraping est la plus récente\n",
    "#     if date_scrap == date_max:\n",
    "#         # Obtenir le contenu HTML de la page\n",
    "#         response = requests.get(url_produit)\n",
    "#         tree = html.fromstring(response.content)\n",
    "        \n",
    "#         # Extraire le prix de la page\n",
    "#         prix_page_list = tree.xpath('//*[@id=\"tire\"]/div[2]/div[3]/div/div[3]/div[2]/div[2]/div[1]/form/div[1]/div[1]/div/div/span/text()')\n",
    "        \n",
    "#         # Vérifier si la liste est vide\n",
    "#         if prix_page_list:\n",
    "#             prix_page = prix_page_list[0]\n",
    "#         else:\n",
    "#             prix_page = 666\n",
    "        \n",
    "#         # Comparer le prix de la page avec le prix dans la base de données\n",
    "#         if prix_produit != prix_page:\n",
    "#             # Mettre à jour le prix dans la base de données\n",
    "#             cursor.execute(\"UPDATE Produit SET Prix = ? WHERE ID_Produit = ?\", prix_page, id_produit)\n",
    "\n",
    "# cnxn.commit()\n",
    "# cnxn.close()\n"
   ]
  },
  {
   "cell_type": "code",
   "execution_count": 5,
   "metadata": {},
   "outputs": [],
   "source": [
    "from lxml import html\n",
    "import requests\n",
    "import pyodbc\n",
    "\n",
    "# Connexion à la base de données\n",
    "cnxn = pyodbc.connect('DRIVER='+driver+';SERVER='+server+';PORT=1433;DATABASE='+database+';UID='+username+';PWD='+ password)\n",
    "cursor = cnxn.cursor()\n",
    "\n",
    "# Sélection de la date la plus élevée dans la colonne Date_scrap de la table Produit\n",
    "cursor.execute(\"SELECT MAX(Date_scrap) FROM Produit\")\n",
    "date_max = cursor.fetchone()[0]\n",
    "\n",
    "# Sélection des URL_Produit, Prix et Date_scrap de la table Produit pour la date la plus élevée\n",
    "cursor.execute(\"SELECT ID_Produit, URL_Produit, Prix, Date_scrap FROM Produit WHERE Date_scrap = ?\", date_max)\n",
    "rows = cursor.fetchall()\n",
    "\n",
    "for row in rows:\n",
    "    id_produit = row[0]\n",
    "    url_produit = row[1]\n",
    "    prix_produit = row[2]\n",
    "    \n",
    "    # Obtenir le contenu HTML de la page\n",
    "    response = requests.get(url_produit)\n",
    "    tree = html.fromstring(response.content)\n",
    "    \n",
    "    # Extraire le prix de la page\n",
    "    prix_page_list = tree.xpath('//*[@id=\"tire\"]/div[2]/div[3]/div/div[3]/div[2]/div[2]/div[1]/form/div[1]/div[1]/div/div/span/text()')\n",
    "    \n",
    "    # Vérifier si la liste est vide\n",
    "    if prix_page_list:\n",
    "        prix_page = prix_page_list[0]\n",
    "    else:\n",
    "        prix_page = 666\n",
    "    \n",
    "    # Comparer le prix de la page avec le prix dans la base de données\n",
    "    if prix_produit != prix_page:\n",
    "        # Mettre à jour le prix dans la base de données\n",
    "        cursor.execute(\"UPDATE Produit SET Prix = ? WHERE ID_Produit = ?\", prix_page, id_produit)\n",
    "\n",
    "cnxn.commit()\n",
    "cnxn.close()\n"
   ]
  },
  {
   "cell_type": "markdown",
   "metadata": {},
   "source": [
    "<span style=\"color:orange\"> récupérer le premier mot de la colonne ‘descriptif’ seulement quand la colonne ‘Marque’ est vide, </span>"
   ]
  },
  {
   "cell_type": "code",
   "execution_count": 6,
   "metadata": {},
   "outputs": [
    {
     "name": "stdout",
     "output_type": "stream",
     "text": [
      "La colonne 'Marque' a été mise à jour avec succès.\n"
     ]
    }
   ],
   "source": [
    "import pyodbc\n",
    "\n",
    "# Connexion à la base de données\n",
    "cnxn = pyodbc.connect('DRIVER='+driver+';SERVER='+server+';PORT=1433;DATABASE='+database+';UID='+username+';PWD='+ password)\n",
    "cursor = cnxn.cursor()\n",
    "\n",
    "# Mise à jour de la colonne Marque dans la table Produit\n",
    "cursor.execute(\"\"\"\n",
    "UPDATE Produit\n",
    "SET Marque = CASE \n",
    "    WHEN CHARINDEX(' ', Descriptif) > 0 THEN LEFT(Descriptif, CHARINDEX(' ', Descriptif) - 1)\n",
    "    ELSE Descriptif\n",
    "END\n",
    "WHERE Marque IS NULL OR Marque = ''\n",
    "\"\"\")\n",
    "\n",
    "cnxn.commit()\n",
    "cnxn.close()\n",
    "\n",
    "print(\"La colonne 'Marque' a été mise à jour avec succès.\")\n",
    "\n"
   ]
  }
 ],
 "metadata": {
  "kernelspec": {
   "display_name": "base",
   "language": "python",
   "name": "python3"
  },
  "language_info": {
   "codemirror_mode": {
    "name": "ipython",
    "version": 3
   },
   "file_extension": ".py",
   "mimetype": "text/x-python",
   "name": "python",
   "nbconvert_exporter": "python",
   "pygments_lexer": "ipython3",
   "version": "3.10.8"
  }
 },
 "nbformat": 4,
 "nbformat_minor": 2
}
