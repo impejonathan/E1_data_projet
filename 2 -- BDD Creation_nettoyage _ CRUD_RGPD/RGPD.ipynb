{
 "cells": [
  {
   "cell_type": "code",
   "execution_count": 16,
   "metadata": {},
   "outputs": [],
   "source": [
    "import os\n",
    "from dotenv import load_dotenv\n",
    "import pyodbc\n",
    "\n",
    "# Charger les variables d'environnement\n",
    "load_dotenv()\n",
    "\n",
    "server = os.getenv('DB_SERVER')\n",
    "database = os.getenv('DB_DATABASE')\n",
    "username = os.getenv('DB_USERNAME')\n",
    "password = os.getenv('DB_PASSWORD')\n",
    "\n",
    "driver= '{ODBC Driver 17 for SQL Server}'\n",
    "\n",
    "cnxn = pyodbc.connect('DRIVER='+driver+';SERVER='+server+';PORT=1433;DATABASE='+database+';UID='+username+';PWD='+ password)\n",
    "cursor = cnxn.cursor()"
   ]
  },
  {
   "cell_type": "markdown",
   "metadata": {},
   "source": [
    "# Suppression de utilisateur qui ne sont pas connecter depuis 24 mois"
   ]
  },
  {
   "cell_type": "code",
   "execution_count": 12,
   "metadata": {},
   "outputs": [
    {
     "name": "stdout",
     "output_type": "stream",
     "text": [
      "Les utilisateurs qui ne se sont pas connectés depuis 24 mois ont été supprimés avec succès.\n"
     ]
    }
   ],
   "source": [
    "from datetime import datetime, timedelta\n",
    "\n",
    "\n",
    "# Calculer la date 24 mois avant aujourd'hui\n",
    "date_limite = datetime.now() - timedelta(days=24*30)\n",
    "\n",
    "# Supprimer les utilisateurs qui ne se sont pas connectés depuis 24 mois\n",
    "cursor.execute(\"\"\"\n",
    "DELETE FROM USER_API WHERE Date_Derniere_Connexion < ?\n",
    "\"\"\", date_limite)\n",
    "\n",
    "cnxn.commit()\n",
    "cnxn.close()\n",
    "\n",
    "print(\"Les utilisateurs qui ne se sont pas connectés depuis 24 mois ont été supprimés avec succès.\")\n"
   ]
  },
  {
   "cell_type": "markdown",
   "metadata": {},
   "source": [
    "# Suppression de utilisateur qui ne sont pas connecter mais qui on un compte crée"
   ]
  },
  {
   "cell_type": "code",
   "execution_count": 9,
   "metadata": {},
   "outputs": [
    {
     "name": "stdout",
     "output_type": "stream",
     "text": [
      "Les utilisateurs sans date de dernière connexion ont été supprimés avec succès.\n"
     ]
    }
   ],
   "source": [
    "\n",
    "\n",
    "# Supprimer les utilisateurs dont la Date_Derniere_Connexion est vide\n",
    "cursor.execute(\"DELETE FROM USER_API WHERE Date_Derniere_Connexion IS NULL\")\n",
    "\n",
    "cnxn.commit()\n",
    "cnxn.close()\n",
    "\n",
    "print(\"Les utilisateurs sans date de dernière connexion ont été supprimés avec succès.\")\n"
   ]
  },
  {
   "cell_type": "markdown",
   "metadata": {},
   "source": [
    "# Suppression de utilisateur qui souhaite supprimer sont compte avec sont email est sont username"
   ]
  },
  {
   "cell_type": "code",
   "execution_count": 17,
   "metadata": {},
   "outputs": [
    {
     "name": "stdout",
     "output_type": "stream",
     "text": [
      "L'utilisateur a été supprimé avec succès.\n"
     ]
    }
   ],
   "source": [
    "######################################################################\n",
    "# Email et nom d'utilisateur à supprimer\n",
    "email_a_supprimer = 'jojo@example.com'     #  <--------- Remplacez par l'email que vous voulez supprimer\n",
    "username_a_supprimer = 'jojo_test'             # <--------- Remplacez par le nom d'utilisateur que vous voulez supprimer\n",
    "######################################################################\n",
    "\n",
    "\n",
    "# Supprimer l'utilisateur correspondant à l'email et au nom d'utilisateur\n",
    "cursor.execute(\"\"\"\n",
    "DELETE FROM USER_API WHERE email = ? AND username = ?\n",
    "\"\"\", email_a_supprimer, username_a_supprimer)\n",
    "\n",
    "cnxn.commit()\n",
    "cnxn.close()\n",
    "\n",
    "print(\"L'utilisateur a été supprimé avec succès.\")\n"
   ]
  },
  {
   "cell_type": "code",
   "execution_count": null,
   "metadata": {},
   "outputs": [],
   "source": []
  }
 ],
 "metadata": {
  "kernelspec": {
   "display_name": "base",
   "language": "python",
   "name": "python3"
  },
  "language_info": {
   "codemirror_mode": {
    "name": "ipython",
    "version": 3
   },
   "file_extension": ".py",
   "mimetype": "text/x-python",
   "name": "python",
   "nbconvert_exporter": "python",
   "pygments_lexer": "ipython3",
   "version": "3.10.8"
  }
 },
 "nbformat": 4,
 "nbformat_minor": 2
}
