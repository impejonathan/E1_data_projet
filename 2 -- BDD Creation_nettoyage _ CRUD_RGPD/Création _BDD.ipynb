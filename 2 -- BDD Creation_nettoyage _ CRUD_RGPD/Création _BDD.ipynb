{
 "cells": [
  {
   "cell_type": "code",
   "execution_count": 1,
   "metadata": {},
   "outputs": [],
   "source": [
    "import os\n",
    "from dotenv import load_dotenv\n",
    "import pyodbc\n",
    "\n",
    "# Charger les variables d'environnement\n",
    "load_dotenv()\n",
    "\n",
    "server = os.getenv('DB_SERVER')\n",
    "database = os.getenv('DB_DATABASE')\n",
    "username = os.getenv('DB_USERNAME')\n",
    "password = os.getenv('DB_PASSWORD')\n",
    "\n",
    "driver= '{ODBC Driver 17 for SQL Server}'\n",
    "\n",
    "cnxn = pyodbc.connect('DRIVER='+driver+';SERVER='+server+';PORT=1433;DATABASE='+database+';UID='+username+';PWD='+ password)\n",
    "cursor = cnxn.cursor()"
   ]
  },
  {
   "cell_type": "code",
   "execution_count": null,
   "metadata": {},
   "outputs": [],
   "source": []
  },
  {
   "cell_type": "markdown",
   "metadata": {},
   "source": [
    "## drop table"
   ]
  },
  {
   "cell_type": "code",
   "execution_count": null,
   "metadata": {},
   "outputs": [],
   "source": [
    "# cursor.execute(\"DROP TABLE IF EXISTS Dimensions\")\n",
    "# cursor.execute(\"DROP TABLE IF EXISTS Caracteristiques\")\n",
    "# cursor.execute(\"DROP TABLE IF EXISTS Prix\")\n",
    "# cursor.execute(\"DROP TABLE IF EXISTS Produit\")\n",
    "# cursor.execute(\"DROP TABLE IF EXISTS USER_API\")\n",
    "# cnxn.commit()"
   ]
  },
  {
   "cell_type": "markdown",
   "metadata": {},
   "source": [
    "## Create table   pour les produit "
   ]
  },
  {
   "cell_type": "code",
   "execution_count": 2,
   "metadata": {},
   "outputs": [],
   "source": [
    "\n",
    "\n",
    "# Création de la table Produit\n",
    "cursor.execute(\"\"\"\n",
    "CREATE TABLE Produit (\n",
    "    ID_Produit INT PRIMARY KEY IDENTITY,\n",
    "    URL_Produit VARCHAR(200),\n",
    "    Prix INT,\n",
    "    Info_generale VARCHAR(200),\n",
    "    Descriptif VARCHAR(200),\n",
    "    Note VARCHAR(50),\n",
    "    Date_scrap DATE,\n",
    "    Marque VARCHAR(200)\n",
    ")\n",
    "\"\"\")\n",
    "\n",
    "\n",
    "cursor.execute(\"\"\"\n",
    "CREATE TABLE Caracteristiques (\n",
    "    ID_Caracteristique INT PRIMARY KEY IDENTITY,\n",
    "    Consommation CHAR(1),\n",
    "    Indice_Pluie CHAR(1),\n",
    "    Bruit INT,\n",
    "    Saisonalite VARCHAR(50),\n",
    "    Type_Vehicule VARCHAR(50),\n",
    "    Runflat VARCHAR(50),\n",
    "    ID_Produit INT FOREIGN KEY REFERENCES Produit(ID_Produit)\n",
    ")\n",
    "\"\"\")\n",
    "\n",
    "# Création de la table Dimensions\n",
    "cursor.execute(\"\"\"\n",
    "CREATE TABLE Dimensions (\n",
    "    ID_Dimension INT PRIMARY KEY IDENTITY,\n",
    "    Largeur INT,\n",
    "    Hauteur INT,\n",
    "    Diametre INT,\n",
    "    Charge INT,\n",
    "    Vitesse CHAR(1),\n",
    "    ID_Produit INT FOREIGN KEY REFERENCES Produit(ID_Produit)\n",
    ")\n",
    "\"\"\")\n",
    "\n",
    "cnxn.commit()\n",
    "cnxn.close()\n"
   ]
  },
  {
   "cell_type": "markdown",
   "metadata": {},
   "source": [
    "## Create table   pour les USER dans L'API"
   ]
  },
  {
   "cell_type": "code",
   "execution_count": 6,
   "metadata": {},
   "outputs": [],
   "source": [
    "# Création de la table USER_API\n",
    "cursor.execute(\"\"\"\n",
    "CREATE TABLE USER_API (\n",
    "    ID_USER_API INT PRIMARY KEY IDENTITY,\n",
    "    username VARCHAR(50),\n",
    "    email VARCHAR(150),\n",
    "    full_name VARCHAR(50),\n",
    "    hashed_password VARCHAR(200),\n",
    "    Date_Création DATE,\n",
    "    Date_Derniere_Connexion DATE\n",
    ")\n",
    "\"\"\")\n",
    "\n",
    "cnxn.commit()\n",
    "cnxn.close()\n",
    "\n"
   ]
  },
  {
   "cell_type": "markdown",
   "metadata": {},
   "source": [
    "## Create table   pour les model de vehicule pour app Django"
   ]
  },
  {
   "cell_type": "code",
   "execution_count": 9,
   "metadata": {},
   "outputs": [],
   "source": [
    "# Création de la table Voiture\n",
    "cursor.execute(\"\"\"\n",
    "CREATE TABLE Voiture (\n",
    "    ID_Voiture INT PRIMARY KEY IDENTITY,\n",
    "    Marque_Voiture VARCHAR(200),\n",
    "    Modele VARCHAR(200),\n",
    "    Largeur INT,\n",
    "    Hauteur INT,\n",
    "    Diametre INT\n",
    ")\n",
    "\"\"\")\n",
    "\n",
    "cnxn.commit()\n",
    "cnxn.close()"
   ]
  },
  {
   "cell_type": "markdown",
   "metadata": {},
   "source": [
    "## Create table   pour les Prediction "
   ]
  },
  {
   "cell_type": "code",
   "execution_count": 2,
   "metadata": {},
   "outputs": [],
   "source": [
    "# Création de la table Prediction_Model\n",
    "cursor.execute(\"\"\"\n",
    "CREATE TABLE Prediction (\n",
    "    ID_Produit INT PRIMARY KEY IDENTITY,\n",
    "    Prix_prediction INT,\n",
    "    Date_prediction DATE,\n",
    "    Info_generale VARCHAR(200),\n",
    "    Descriptif VARCHAR(200),\n",
    "    Note VARCHAR(50),\n",
    "    Marque VARCHAR(200),\n",
    "    Consommation CHAR(1),\n",
    "    Indice_Pluie CHAR(1),\n",
    "    Bruit INT,\n",
    "    Saisonalite VARCHAR(50),\n",
    "    Type_Vehicule VARCHAR(50),\n",
    "    Runflat VARCHAR(50),\n",
    "    Largeur INT,\n",
    "    Hauteur INT,\n",
    "    Diametre INT,\n",
    "    Charge INT,\n",
    "    Vitesse CHAR(1),\n",
    ")\n",
    "\"\"\")\n",
    "\n",
    "cnxn.commit()\n",
    "cnxn.close()"
   ]
  }
 ],
 "metadata": {
  "kernelspec": {
   "display_name": "base",
   "language": "python",
   "name": "python3"
  },
  "language_info": {
   "codemirror_mode": {
    "name": "ipython",
    "version": 3
   },
   "file_extension": ".py",
   "mimetype": "text/x-python",
   "name": "python",
   "nbconvert_exporter": "python",
   "pygments_lexer": "ipython3",
   "version": "3.10.8"
  }
 },
 "nbformat": 4,
 "nbformat_minor": 2
}
