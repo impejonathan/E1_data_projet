{
 "cells": [
  {
   "cell_type": "code",
   "execution_count": 1,
   "metadata": {},
   "outputs": [],
   "source": [
    "import os\n",
    "from dotenv import load_dotenv\n",
    "import pyodbc\n",
    "\n",
    "# Charger les variables d'environnement\n",
    "load_dotenv()\n",
    "\n",
    "server = os.getenv('DB_SERVER')\n",
    "database = os.getenv('DB_DATABASE')\n",
    "username = os.getenv('DB_USERNAME')\n",
    "password = os.getenv('DB_PASSWORD')\n",
    "\n",
    "driver= '{ODBC Driver 17 for SQL Server}'\n",
    "\n",
    "cnxn = pyodbc.connect('DRIVER='+driver+';SERVER='+server+';PORT=1433;DATABASE='+database+';UID='+username+';PWD='+ password)\n",
    "cursor = cnxn.cursor()"
   ]
  },
  {
   "cell_type": "markdown",
   "metadata": {},
   "source": [
    "# CREATE"
   ]
  },
  {
   "cell_type": "markdown",
   "metadata": {},
   "source": [
    "### Ajouter un nouveau produit à la table \"Produit\" , \"Caracteristiques\" & \"Dimensions\" :   \n",
    "### mode SQL"
   ]
  },
  {
   "cell_type": "code",
   "execution_count": null,
   "metadata": {
    "vscode": {
     "languageId": "sql"
    }
   },
   "outputs": [],
   "source": [
    "-- Insérer un nouveau produit dans la table Produit\n",
    "INSERT INTO Produit (URL_Produit, Prix, Info_generale, Descriptif, Note, Date_scrap)\n",
    "VALUES ('https://www.example.com', 666, 'Info générale', 'Descriptif', '666', '2024-01-31');\n",
    "\n",
    "-- Obtenir l'ID du dernier produit inséré\n",
    "DECLARE @ID_Produit INT;\n",
    "SET @ID_Produit = SCOPE_IDENTITY();\n",
    "\n",
    "-- Insérer une caractéristique correspondante dans la table Caracteristiques\n",
    "INSERT INTO Caracteristiques (Consommation, Indice_Pluie, Bruit, Saisonalite, Type_Vehicule, Runflat, ID_Produit)\n",
    "VALUES ('A', 'B', 666, 'Hiver', 'Voiture', 'Non', @ID_Produit);\n",
    "\n",
    "-- Insérer une dimension correspondante dans la table Dimensions\n",
    "INSERT INTO Dimensions (Largeur, Hauteur, Diametre, Charge, Vitesse, ID_Produit)\n",
    "VALUES (205, 55, 16, 91, 'H', @ID_Produit);\n",
    "\n"
   ]
  },
  {
   "cell_type": "markdown",
   "metadata": {},
   "source": [
    "### Ajouter un nouveau produit à la table \"Produit\" , \"Caracteristiques\" & \"Dimensions\" :   \n",
    "### mode injection python"
   ]
  },
  {
   "cell_type": "code",
   "execution_count": null,
   "metadata": {},
   "outputs": [],
   "source": [
    "import pyodbc\n",
    "\n",
    "# Connexion à la base de données\n",
    "cnxn = pyodbc.connect('DRIVER='+driver+';SERVER='+server+';PORT=1433;DATABASE='+database+';UID='+username+';PWD='+ password)\n",
    "cursor = cnxn.cursor()\n",
    "\n",
    "# Création d'un nouveau produit\n",
    "cursor.execute(\"\"\"\n",
    "INSERT INTO Produit (URL_Produit, Prix, Info_generale, Descriptif, Note, Date_scrap)\n",
    "OUTPUT INSERTED.ID_Produit\n",
    "VALUES ('https://www.test.com', 666, 'blabla', 'Descriptif', '666', '2024-01-31')\n",
    "\"\"\")\n",
    "id_produit = cursor.fetchone()[0]\n",
    "\n",
    "# Affichage de l'ID_Produit\n",
    "print(f\"L'ID du produit inséré est : {id_produit}\")\n",
    "\n",
    "# Ajout d'une caractéristique correspondante\n",
    "cursor.execute(\"\"\"\n",
    "INSERT INTO Caracteristiques (Consommation, Indice_Pluie, Bruit, Saisonalite, Type_Vehicule, Runflat, ID_Produit)\n",
    "VALUES ('A', 'B', 666, 'Hiver', 'Voiture', 'Non', ?)\n",
    "\"\"\", id_produit)\n",
    "\n",
    "# Ajout d'une dimension correspondante\n",
    "cursor.execute(\"\"\"\n",
    "INSERT INTO Dimensions (Largeur, Hauteur, Diametre, Charge, Vitesse, ID_Produit)\n",
    "VALUES (200, 55, 16, 91, 'H', ?)\n",
    "\"\"\", id_produit)\n",
    "\n",
    "cnxn.commit()\n",
    "cnxn.close()\n"
   ]
  },
  {
   "cell_type": "markdown",
   "metadata": {},
   "source": [
    "# READ"
   ]
  },
  {
   "cell_type": "markdown",
   "metadata": {},
   "source": [
    "cette requêtes récupèrent tous les produits qui ont   \n",
    "un prix inférieur à 99, une saisonnalité ‘Hiver’, \n",
    "un diamètre de 17 et une consommation ‘A’ ou ‘B’. Les résultats sont affichés à l’écran."
   ]
  },
  {
   "cell_type": "markdown",
   "metadata": {},
   "source": [
    "### en SQL"
   ]
  },
  {
   "cell_type": "code",
   "execution_count": 3,
   "metadata": {
    "vscode": {
     "languageId": "sql"
    }
   },
   "outputs": [
    {
     "ename": "SyntaxError",
     "evalue": "invalid syntax (653990817.py, line 1)",
     "output_type": "error",
     "traceback": [
      "\u001b[1;36m  Cell \u001b[1;32mIn[3], line 1\u001b[1;36m\u001b[0m\n\u001b[1;33m    SELECT P.*, C.*, D.*\u001b[0m\n\u001b[1;37m           ^\u001b[0m\n\u001b[1;31mSyntaxError\u001b[0m\u001b[1;31m:\u001b[0m invalid syntax\n"
     ]
    }
   ],
   "source": [
    "SELECT P.*, C.*, D.*\n",
    "FROM Produit P\n",
    "JOIN Caracteristiques C ON P.ID_Produit = C.ID_Produit\n",
    "JOIN Dimensions D ON P.ID_Produit = D.ID_Produit\n",
    "WHERE P.Prix < 99\n",
    "AND C.Saisonalite = 'Hiver'\n",
    "AND D.Diametre = 17\n",
    "AND C.Consommation IN ('A', 'B')\n"
   ]
  },
  {
   "cell_type": "markdown",
   "metadata": {},
   "source": [
    "### en python "
   ]
  },
  {
   "cell_type": "code",
   "execution_count": 2,
   "metadata": {},
   "outputs": [
    {
     "name": "stdout",
     "output_type": "stream",
     "text": [
      "(52221, 'https://www.carter-cash.com/pneus/p/215-60-r60-100V-355663-CON11', 152, '215/60 R17 100V', 'CONTINENTAL WINTCONT TS 870 P', 'note inconnue', datetime.date(2024, 4, 13), 'CONTINENTAL', 52218, 'B', 'B', 71, 'Hiver', 'Tourisme', 'Non', 52221, 52217, 215, 60, 17, 100, 'V', 52221)\n",
      "(47419, 'https://www.carter-cash.com/pneus/p/235-65-r65-108V-15038-BRI11', 180, '235/65 R17 108V', 'BRIDGESTONE LM005', 'note inconnue', datetime.date(2024, 4, 6), 'BRIDGESTONE', 47416, 'B', 'A', 72, 'Hiver', '4x4', 'Non', 47419, 47415, 235, 65, 17, 0, 'V', 47419)\n",
      "(62762, 'https://www.carter-cash.com/pneus/p/245-65-r65-111H-15039-BRI11', 158, '245/65 R17 111H', 'BRIDGESTONE LM005', 'note inconnue', datetime.date(2024, 4, 21), 'BRIDGESTONE', 62759, 'B', 'A', 72, 'Hiver', '4x4', 'Non', 62762, 62758, 245, 65, 17, 0, 'H', 62762)\n",
      "(62319, 'https://www.carter-cash.com/pneus/p/235-65-r65-108H-15037-BRI11', 148, '235/65 R17 108H', 'BRIDGESTONE LM005', 'note inconnue', datetime.date(2024, 4, 21), 'BRIDGESTONE', 62316, 'B', 'A', 72, 'Hiver', '4x4', 'Non', 62319, 62315, 235, 65, 17, 0, 'H', 62319)\n",
      "(62288, 'https://www.carter-cash.com/pneus/p/235-65-r65-108V-15038-BRI11', 187, '235/65 R17 108V', 'BRIDGESTONE LM005', 'note inconnue', datetime.date(2024, 4, 21), 'BRIDGESTONE', 62285, 'B', 'A', 72, 'Hiver', '4x4', 'Non', 62288, 62284, 235, 65, 17, 0, 'V', 62288)\n",
      "(61781, 'https://www.carter-cash.com/pneus/p/235-55-r55-103V-0355683-CON11', 182, '235/55 R17 103V', 'CONTINENTAL WINTER CONTACT TS 870 P', 'note inconnue', datetime.date(2024, 4, 21), 'CONTINENTAL', 61778, 'B', 'B', 71, 'Hiver', 'Tourisme', 'Non', 61781, 61777, 235, 55, 17, 0, 'V', 61781)\n",
      "(59423, 'https://www.carter-cash.com/pneus/p/215-60-r60-100V-355663-CON11', 152, '215/60 R17 100V', 'CONTINENTAL WINTCONT TS 870 P', 'note inconnue', datetime.date(2024, 4, 21), 'CONTINENTAL', 59420, 'B', 'B', 71, 'Hiver', 'Tourisme', 'Non', 59423, 59419, 215, 60, 17, 100, 'V', 59423)\n",
      "(59189, 'https://www.carter-cash.com/pneus/p/215-55-r55-98V-0355659-CON11', 168, '215/55 R17 98V', 'CONTINENTAL WINTER CONTACT TS 870 P', 'note inconnue', datetime.date(2024, 4, 21), 'CONTINENTAL', 59186, 'B', 'B', 71, 'Hiver', 'Tourisme', 'Non', 59189, 59185, 215, 55, 17, 98, 'V', 59189)\n",
      "(55430, 'https://www.carter-cash.com/pneus/p/245-65-r65-111H-15039-BRI11', 159, '245/65 R17 111H', 'BRIDGESTONE LM005', 'note inconnue', datetime.date(2024, 4, 13), 'BRIDGESTONE', 55427, 'B', 'A', 72, 'Hiver', '4x4', 'Non', 55430, 55426, 245, 65, 17, 0, 'H', 55430)\n",
      "(54849, 'https://www.carter-cash.com/pneus/p/235-65-r65-108V-15038-BRI11', 187, '235/65 R17 108V', 'BRIDGESTONE LM005', 'note inconnue', datetime.date(2024, 4, 13), 'BRIDGESTONE', 54846, 'B', 'A', 72, 'Hiver', '4x4', 'Non', 54849, 54845, 235, 65, 17, 0, 'V', 54849)\n",
      "(54830, 'https://www.carter-cash.com/pneus/p/235-65-r65-108H-15037-BRI11', 149, '235/65 R17 108H', 'BRIDGESTONE LM005', 'note inconnue', datetime.date(2024, 4, 13), 'BRIDGESTONE', 54827, 'B', 'A', 72, 'Hiver', '4x4', 'Non', 54830, 54826, 235, 65, 17, 0, 'H', 54830)\n",
      "(54220, 'https://www.carter-cash.com/pneus/p/235-55-r55-103V-0355683-CON11', 178, '235/55 R17 103V', 'CONTINENTAL WINTER CONTACT TS 870 P', 'note inconnue', datetime.date(2024, 4, 13), 'CONTINENTAL', 54217, 'B', 'B', 71, 'Hiver', 'Tourisme', 'Non', 54220, 54216, 235, 55, 17, 0, 'V', 54220)\n",
      "(52211, 'https://www.carter-cash.com/pneus/p/215-60-r60-100V-17712-BRI11', 165, '215/60 R17 100V', 'BRIDGESTONE LM005', 'note inconnue', datetime.date(2024, 4, 13), 'BRIDGESTONE', 52208, 'B', 'A', 71, 'Hiver', '4x4', 'Non', 52211, 52207, 215, 60, 17, 100, 'V', 52211)\n",
      "(51763, 'https://www.carter-cash.com/pneus/p/215-55-r55-98V-0355659-CON11', 168, '215/55 R17 98V', 'CONTINENTAL WINTER CONTACT TS 870 P', 'note inconnue', datetime.date(2024, 4, 13), 'CONTINENTAL', 51760, 'B', 'B', 71, 'Hiver', 'Tourisme', 'Non', 51763, 51759, 215, 55, 17, 98, 'V', 51763)\n",
      "(48084, 'https://www.carter-cash.com/pneus/p/245-65-r65-111H-15039-BRI11', 161, '245/65 R17 111H', 'BRIDGESTONE LM005', 'note inconnue', datetime.date(2024, 4, 6), 'BRIDGESTONE', 48081, 'B', 'A', 72, 'Hiver', '4x4', 'Non', 48084, 48080, 245, 65, 17, 0, 'H', 48084)\n",
      "(47439, 'https://www.carter-cash.com/pneus/p/235-65-r65-108H-15037-BRI11', 150, '235/65 R17 108H', 'BRIDGESTONE LM005', 'note inconnue', datetime.date(2024, 4, 6), 'BRIDGESTONE', 47436, 'B', 'A', 72, 'Hiver', '4x4', 'Non', 47439, 47435, 235, 65, 17, 0, 'H', 47439)\n",
      "(44914, 'https://www.carter-cash.com/pneus/p/215-65-r65-103H-15032-BRI11', 147, '215/65 R17 103H', 'BRIDGESTONE LM005', 'note inconnue', datetime.date(2024, 4, 6), 'BRIDGESTONE', 44911, 'B', 'A', 71, 'Hiver', '4x4', 'Non', 44914, 44910, 215, 65, 17, 0, 'H', 44914)\n",
      "(44587, 'https://www.carter-cash.com/pneus/p/215-60-r60-100V-17712-BRI11', 175, '215/60 R17 100V', 'BRIDGESTONE LM005', 'note inconnue', datetime.date(2024, 4, 6), 'BRIDGESTONE', 44584, 'B', 'A', 71, 'Hiver', '4x4', 'Non', 44587, 44583, 215, 60, 17, 100, 'V', 44587)\n",
      "(44523, 'https://www.carter-cash.com/pneus/p/215-55-r55-98V-0355659-CON11', 168, '215/55 R17 98V', 'CONTINENTAL WINTER CONTACT TS 870 P', 'note inconnue', datetime.date(2024, 4, 6), 'CONTINENTAL', 44520, 'B', 'B', 71, 'Hiver', 'Tourisme', 'Non', 44523, 44519, 215, 55, 17, 98, 'V', 44523)\n",
      "(40739, 'https://www.carter-cash.com/pneus/p/245-65-r65-111H-15039-BRI11', 162, '245/65 R17 111H', 'BRIDGESTONE LM005', 'note inconnue', datetime.date(2024, 3, 31), 'BRIDGESTONE', 40736, 'B', 'A', 72, 'Hiver', '4x4', 'Non', 40739, 40735, 245, 65, 17, 0, 'H', 40739)\n",
      "(40401, 'https://www.carter-cash.com/pneus/p/235-65-r65-108H-15037-BRI11', 152, '235/65 R17 108H', 'BRIDGESTONE LM005', 'note inconnue', datetime.date(2024, 3, 31), 'BRIDGESTONE', 40398, 'B', 'A', 72, 'Hiver', '4x4', 'Non', 40401, 40397, 235, 65, 17, 0, 'H', 40401)\n",
      "(40355, 'https://www.carter-cash.com/pneus/p/235-65-r65-108V-15038-BRI11', 180, '235/65 R17 108V', 'BRIDGESTONE LM005', 'note inconnue', datetime.date(2024, 3, 31), 'BRIDGESTONE', 40352, 'B', 'A', 72, 'Hiver', '4x4', 'Non', 40355, 40351, 235, 65, 17, 0, 'V', 40355)\n",
      "(37606, 'https://www.carter-cash.com/pneus/p/215-65-r65-103H-15032-BRI11', 151, '215/65 R17 103H', 'BRIDGESTONE LM005', 'note inconnue', datetime.date(2024, 3, 31), 'BRIDGESTONE', 37603, 'B', 'A', 71, 'Hiver', '4x4', 'Non', 37606, 37602, 215, 65, 17, 0, 'H', 37606)\n",
      "(37492, 'https://www.carter-cash.com/pneus/p/215-60-r60-100V-355663-CON11', 161, '215/60 R17 100V', 'CONTINENTAL WINTCONT TS 870 P', 'note inconnue', datetime.date(2024, 3, 31), 'CONTINENTAL', 37489, 'B', 'B', 71, 'Hiver', 'Tourisme', 'Non', 37492, 37488, 215, 60, 17, 100, 'V', 37492)\n",
      "(37480, 'https://www.carter-cash.com/pneus/p/215-60-r60-100V-17712-BRI11', 180, '215/60 R17 100V', 'BRIDGESTONE LM005', 'note inconnue', datetime.date(2024, 3, 31), 'BRIDGESTONE', 37477, 'B', 'A', 71, 'Hiver', '4x4', 'Non', 37480, 37476, 215, 60, 17, 100, 'V', 37480)\n",
      "(37258, 'https://www.carter-cash.com/pneus/p/215-55-r55-98V-0355659-CON11', 167, '215/55 R17 98V', 'CONTINENTAL WINTER CONTACT TS 870 P', 'note inconnue', datetime.date(2024, 3, 31), 'CONTINENTAL', 37255, 'B', 'B', 71, 'Hiver', 'Tourisme', 'Non', 37258, 37254, 215, 55, 17, 98, 'V', 37258)\n"
     ]
    }
   ],
   "source": [
    "import pyodbc\n",
    "\n",
    "# Connexion à la base de données\n",
    "cnxn = pyodbc.connect('DRIVER='+driver+';SERVER='+server+';PORT=1433;DATABASE='+database+';UID='+username+';PWD='+ password)\n",
    "cursor = cnxn.cursor()\n",
    "\n",
    "# Exécution de la requête\n",
    "cursor.execute(\"\"\"\n",
    "SELECT P.*, C.*, D.*\n",
    "FROM Produit P\n",
    "JOIN Caracteristiques C ON P.ID_Produit = C.ID_Produit\n",
    "JOIN Dimensions D ON P.ID_Produit = D.ID_Produit\n",
    "WHERE P.Prix < 199\n",
    "AND C.Saisonalite = 'Hiver'\n",
    "AND D.Diametre = 17\n",
    "AND C.Consommation IN ('A', 'B')\n",
    "\"\"\")\n",
    "\n",
    "# Affichage des résultats\n",
    "rows = cursor.fetchall()\n",
    "for row in rows:\n",
    "    print(row)\n",
    "\n",
    "cnxn.close()\n"
   ]
  },
  {
   "cell_type": "markdown",
   "metadata": {},
   "source": [
    "<span style=\"color:orange\">Ces requêtes comptent le nombre de lignes dans les tables Produit, Caracteristiques et Dimensions.</span>\n"
   ]
  },
  {
   "cell_type": "code",
   "execution_count": 6,
   "metadata": {
    "vscode": {
     "languageId": "sql"
    }
   },
   "outputs": [
    {
     "ename": "SyntaxError",
     "evalue": "invalid syntax (1095219716.py, line 1)",
     "output_type": "error",
     "traceback": [
      "\u001b[1;36m  Cell \u001b[1;32mIn[6], line 1\u001b[1;36m\u001b[0m\n\u001b[1;33m    SELECT COUNT(*) FROM Produit;\u001b[0m\n\u001b[1;37m           ^\u001b[0m\n\u001b[1;31mSyntaxError\u001b[0m\u001b[1;31m:\u001b[0m invalid syntax\n"
     ]
    }
   ],
   "source": [
    "SELECT COUNT(*) FROM Produit;\n",
    "SELECT COUNT(*) FROM Caracteristiques;\n",
    "SELECT COUNT(*) FROM Dimensions;\n"
   ]
  },
  {
   "cell_type": "code",
   "execution_count": 3,
   "metadata": {},
   "outputs": [
    {
     "name": "stdout",
     "output_type": "stream",
     "text": [
      "La table Produit contient 17567 lignes.\n",
      "La table Caracteristiques contient 17567 lignes.\n",
      "La table Dimensions contient 17161 lignes.\n"
     ]
    }
   ],
   "source": [
    "import pyodbc\n",
    "\n",
    "# Connexion à la base de données\n",
    "cnxn = pyodbc.connect('DRIVER='+driver+';SERVER='+server+';PORT=1433;DATABASE='+database+';UID='+username+';PWD='+ password)\n",
    "cursor = cnxn.cursor()\n",
    "\n",
    "# Compter le nombre de lignes dans chaque table\n",
    "for table_name in ['Produit', 'Caracteristiques', 'Dimensions']:\n",
    "    cursor.execute(f\"SELECT COUNT(*) FROM {table_name}\")\n",
    "    row_count = cursor.fetchone()[0]\n",
    "    print(f\"La table {table_name} contient {row_count} lignes.\")\n",
    "\n",
    "cnxn.close()"
   ]
  },
  {
   "cell_type": "markdown",
   "metadata": {},
   "source": [
    "La table Produit contient 6725 lignes.\n",
    "La table Caracteristiques contient 6725 lignes.\n",
    "La table Dimensions contient 6577 lignes."
   ]
  },
  {
   "cell_type": "markdown",
   "metadata": {},
   "source": [
    "nombre de ligne avec 666 en prix "
   ]
  },
  {
   "cell_type": "code",
   "execution_count": null,
   "metadata": {
    "vscode": {
     "languageId": "sql"
    }
   },
   "outputs": [],
   "source": [
    "SELECT COUNT(*)\n",
    "FROM Produit P\n",
    "JOIN Caracteristiques C ON P.ID_Produit = C.ID_Produit\n",
    "JOIN Dimensions D ON P.ID_Produit = D.ID_Produit\n",
    "WHERE P.Prix = 666\n"
   ]
  },
  {
   "cell_type": "markdown",
   "metadata": {},
   "source": [
    "# UPDATE"
   ]
  },
  {
   "cell_type": "markdown",
   "metadata": {},
   "source": [
    "### Cette requêtes mettent à jour le prix dans la table Produit et le bruit dans la table Caracteristiques,   \n",
    "### en changeant toutes les valeurs de 666 en 777"
   ]
  },
  {
   "cell_type": "markdown",
   "metadata": {},
   "source": [
    "### en SQL"
   ]
  },
  {
   "cell_type": "code",
   "execution_count": null,
   "metadata": {
    "vscode": {
     "languageId": "sql"
    }
   },
   "outputs": [],
   "source": [
    "-- Mettre à jour le prix dans la table Produit\n",
    "UPDATE Produit SET Prix = 777 WHERE Prix = 666;\n",
    "\n",
    "-- Mettre à jour le bruit dans la table Caracteristiques\n",
    "UPDATE Caracteristiques SET Bruit = 777 WHERE Bruit = 666;\n"
   ]
  },
  {
   "cell_type": "markdown",
   "metadata": {},
   "source": [
    "### en python"
   ]
  },
  {
   "cell_type": "code",
   "execution_count": null,
   "metadata": {},
   "outputs": [],
   "source": [
    "import pyodbc\n",
    "\n",
    "# Connexion à la base de données\n",
    "cnxn = pyodbc.connect('DRIVER='+driver+';SERVER='+server+';PORT=1433;DATABASE='+database+';UID='+username+';PWD='+ password)\n",
    "cursor = cnxn.cursor()\n",
    "\n",
    "# Mettre à jour le prix dans la table Produit\n",
    "cursor.execute(\"UPDATE Produit SET Prix = 777 WHERE Prix = 666\")\n",
    "\n",
    "# Mettre à jour le bruit dans la table Caracteristiques\n",
    "cursor.execute(\"UPDATE Caracteristiques SET Bruit = 777 WHERE Bruit = 666\")\n",
    "\n",
    "cnxn.commit()\n",
    "cnxn.close()\n"
   ]
  },
  {
   "cell_type": "markdown",
   "metadata": {},
   "source": [
    "# DELETE"
   ]
  },
  {
   "cell_type": "markdown",
   "metadata": {},
   "source": [
    "Ces requêtes suppriment les produits avec un prix de 777 dans la table Produit   \n",
    "et les caractéristiques avec un bruit de 777 dans la table Caracteristiques."
   ]
  },
  {
   "cell_type": "markdown",
   "metadata": {},
   "source": [
    "### en SQL"
   ]
  },
  {
   "cell_type": "code",
   "execution_count": null,
   "metadata": {
    "vscode": {
     "languageId": "sql"
    }
   },
   "outputs": [],
   "source": [
    "-- Supprimer les produits avec un prix de 777 dans la table Produit\n",
    "DELETE FROM Produit WHERE Prix = 777;\n",
    "\n",
    "-- Supprimer les caractéristiques avec un bruit de 777 dans la table Caracteristiques\n",
    "DELETE FROM Caracteristiques WHERE Bruit = 777;\n"
   ]
  },
  {
   "cell_type": "markdown",
   "metadata": {},
   "source": [
    "### en python"
   ]
  },
  {
   "cell_type": "code",
   "execution_count": null,
   "metadata": {},
   "outputs": [],
   "source": [
    "import pyodbc\n",
    "\n",
    "# Connexion à la base de données\n",
    "cnxn = pyodbc.connect('DRIVER='+driver+';SERVER='+server+';PORT=1433;DATABASE='+database+';UID='+username+';PWD='+ password)\n",
    "cursor = cnxn.cursor()\n",
    "\n",
    "# Supprimer les produits avec un prix de 777 dans la table Produit\n",
    "cursor.execute(\"DELETE FROM Produit WHERE Prix = 777\")\n",
    "\n",
    "# Supprimer les caractéristiques avec un bruit de 777 dans la table Caracteristiques\n",
    "cursor.execute(\"DELETE FROM Caracteristiques WHERE Bruit = 777\")\n",
    "\n",
    "cnxn.commit()\n",
    "cnxn.close()\n",
    "\n",
    "print(\"Les opérations de suppression ont été effectuées avec succès.\")\n"
   ]
  },
  {
   "cell_type": "markdown",
   "metadata": {},
   "source": [
    "suppresion des lignes qui on 666 en prix   \n",
    "  ( crée pour supprimer ceux qui on un prix 666€ voire \"nettoyage_BDD.ipynb\" )"
   ]
  },
  {
   "cell_type": "code",
   "execution_count": null,
   "metadata": {
    "vscode": {
     "languageId": "sql"
    }
   },
   "outputs": [],
   "source": [
    "-- Supprimer les lignes correspondantes dans la table Caracteristiques\n",
    "DELETE FROM Caracteristiques\n",
    "WHERE ID_Produit IN (\n",
    "    SELECT ID_Produit\n",
    "    FROM Produit\n",
    "    WHERE Prix = 666\n",
    ")\n",
    "\n",
    "-- Supprimer les lignes correspondantes dans la table Dimensions\n",
    "DELETE FROM Dimensions\n",
    "WHERE ID_Produit IN (\n",
    "    SELECT ID_Produit\n",
    "    FROM Produit\n",
    "    WHERE Prix = 666\n",
    ")\n",
    "\n",
    "-- Maintenant, vous pouvez supprimer les lignes de la table Produit\n",
    "DELETE FROM Produit\n",
    "WHERE Prix = 666\n"
   ]
  },
  {
   "cell_type": "markdown",
   "metadata": {},
   "source": [
    "sql delete contenu dans _clone"
   ]
  },
  {
   "cell_type": "code",
   "execution_count": 11,
   "metadata": {
    "vscode": {
     "languageId": "sql"
    }
   },
   "outputs": [
    {
     "name": "stdout",
     "output_type": "stream",
     "text": [
      "La colonne 'Marque' a été mise à jour avec succès.\n"
     ]
    }
   ],
   "source": [
    "-- Supprimer toutes les données de la table Produit_clone\n",
    "DELETE FROM Produit_clone;\n",
    "\n",
    "-- Supprimer toutes les données de la table Caracteristiques_clone\n",
    "DELETE FROM Caracteristiques_clone;\n",
    "\n",
    "-- Supprimer toutes les données de la table Dimensions_clone\n",
    "DELETE FROM Dimensions_clone;\n"
   ]
  },
  {
   "cell_type": "markdown",
   "metadata": {},
   "source": [
    "effacement des données par rappport a la date "
   ]
  },
  {
   "cell_type": "code",
   "execution_count": null,
   "metadata": {
    "vscode": {
     "languageId": "sql"
    }
   },
   "outputs": [],
   "source": [
    "-- Delete from Dimensions table\n",
    "DELETE FROM Dimensions\n",
    "WHERE ID_Produit IN (SELECT ID_Produit FROM Produit WHERE Date_scrap = '2024-09-05');\n",
    "\n",
    "-- Delete from Caracteristiques table\n",
    "DELETE FROM Caracteristiques\n",
    "WHERE ID_Produit IN (SELECT ID_Produit FROM Produit WHERE Date_scrap = '2024-09-05');\n",
    "\n",
    "-- Delete from Produit table\n",
    "DELETE FROM Produit\n",
    "WHERE Date_scrap = '2024-09-05';\n"
   ]
  }
 ],
 "metadata": {
  "kernelspec": {
   "display_name": "base",
   "language": "python",
   "name": "python3"
  },
  "language_info": {
   "codemirror_mode": {
    "name": "ipython",
    "version": 3
   },
   "file_extension": ".py",
   "mimetype": "text/x-python",
   "name": "python",
   "nbconvert_exporter": "python",
   "pygments_lexer": "ipython3",
   "version": "3.10.8"
  }
 },
 "nbformat": 4,
 "nbformat_minor": 2
}
