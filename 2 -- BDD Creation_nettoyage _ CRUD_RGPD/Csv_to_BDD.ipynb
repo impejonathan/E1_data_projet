{
 "cells": [
  {
   "cell_type": "code",
   "execution_count": 1,
   "metadata": {},
   "outputs": [],
   "source": [
    "import os\n",
    "from dotenv import load_dotenv\n",
    "import pyodbc\n",
    "import pandas as pd\n",
    "\n",
    "# Charger les variables d'environnement\n",
    "load_dotenv()\n",
    "\n",
    "server = os.getenv('DB_SERVER')\n",
    "database = os.getenv('DB_DATABASE')\n",
    "username = os.getenv('DB_USERNAME')\n",
    "password = os.getenv('DB_PASSWORD')\n",
    "\n",
    "driver= '{ODBC Driver 17 for SQL Server}'\n",
    "\n",
    "cnxn = pyodbc.connect('DRIVER='+driver+';SERVER='+server+';PORT=1433;DATABASE='+database+';UID='+username+';PWD='+ password)\n",
    "cursor = cnxn.cursor()"
   ]
  },
  {
   "cell_type": "code",
   "execution_count": 2,
   "metadata": {},
   "outputs": [],
   "source": [
    "import pandas as pd\n",
    "\n",
    "# Charger le fichier CSV\n",
    "df = pd.read_csv('tailles_de_pneus_par_voiture.csv')\n",
    "\n",
    "# Assurez-vous que les colonnes correspondent à celles de la base de données\n",
    "df = df[['Marque_Voiture', 'Modele', 'Largeur', 'Hauteur', 'Diametre']]\n",
    "\n",
    "# Convertir le DataFrame en une liste de tuples\n",
    "data = [tuple(row) for row in df.values]\n",
    "\n",
    "# Préparer la requête SQL\n",
    "query = \"\"\"\n",
    "INSERT INTO Voiture (Marque_Voiture, Modele, Largeur, Hauteur, Diametre) \n",
    "VALUES (?, ?, ?, ?, ?)\n",
    "\"\"\"\n",
    "\n",
    "# Exécuter la requête pour chaque ligne du DataFrame\n",
    "for row in data:\n",
    "    cursor.execute(query, row)\n",
    "\n",
    "# Valider les changements\n",
    "cnxn.commit()\n"
   ]
  }
 ],
 "metadata": {
  "kernelspec": {
   "display_name": "base",
   "language": "python",
   "name": "python3"
  },
  "language_info": {
   "codemirror_mode": {
    "name": "ipython",
    "version": 3
   },
   "file_extension": ".py",
   "mimetype": "text/x-python",
   "name": "python",
   "nbconvert_exporter": "python",
   "pygments_lexer": "ipython3",
   "version": "3.10.8"
  }
 },
 "nbformat": 4,
 "nbformat_minor": 2
}
